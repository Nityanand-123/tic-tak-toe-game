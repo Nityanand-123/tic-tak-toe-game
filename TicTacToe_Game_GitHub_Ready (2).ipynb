{
 "cells": [
  {
   "cell_type": "markdown",
   "id": "b0c64dc6",
   "metadata": {},
   "source": [
    "# Tic-Tac-Toe Game\n",
    "\n",
    "This is a simple implementation of the classic Tic-Tac-Toe game using Python. The game is designed for two players playing alternately in the console environment."
   ]
  },
  {
   "cell_type": "markdown",
   "id": "19957b25",
   "metadata": {},
   "source": [
    "## game function\n",
    "- take name for player 1 and player 2\n",
    "- -who will go first\n",
    "- -chose marker \n",
    "- -display\n",
    "- -choose postion\n",
    "- -check postion\n",
    "- -place marker on display\n",
    "- -check player won \n",
    "- -full board\n",
    "- -change marker\n",
    "- -if player won, increase score"
   ]
  },
  {
   "cell_type": "code",
   "execution_count": null,
   "id": "5c23d489",
   "metadata": {},
   "outputs": [],
   "source": [
    " def game ():\n",
    "    pass"
   ]
  },
  {
   "cell_type": "code",
   "execution_count": null,
   "id": "36f2a857",
   "metadata": {},
   "outputs": [],
   "source": [
    " def take_name():\n",
    "    pass"
   ]
  },
  {
   "cell_type": "code",
   "execution_count": null,
   "id": "dd5518a5",
   "metadata": {},
   "outputs": [],
   "source": [
    "def choose_marker():\n",
    "    pass"
   ]
  },
  {
   "cell_type": "markdown",
   "id": "3a4dc284",
   "metadata": {},
   "source": [
    "## Display the Game Board"
   ]
  },
  {
   "cell_type": "code",
   "execution_count": null,
   "id": "27a9c775",
   "metadata": {},
   "outputs": [],
   "source": [
    "def display(li):\n",
    "    print(li[7], \"|\", li[8], \"|\", li[9])\n",
    "    print(\"-\"*10)\n",
    "    print(li[4], \"|\", li[5], \"|\", li[6])\n",
    "    print(\"-\"*10)\n",
    "    print(li[1], \"|\", li[2], \"|\", li[9])"
   ]
  },
  {
   "cell_type": "code",
   "execution_count": null,
   "id": "49242afc",
   "metadata": {},
   "outputs": [],
   "source": [
    "def choose_postion():\n",
    "    pass"
   ]
  },
  {
   "cell_type": "code",
   "execution_count": null,
   "id": "f34ede04",
   "metadata": {},
   "outputs": [],
   "source": [
    "def place_marker():\n",
    "    pass"
   ]
  },
  {
   "cell_type": "markdown",
   "id": "3329d796",
   "metadata": {},
   "source": [
    "## Check for Win or Draw"
   ]
  },
  {
   "cell_type": "code",
   "execution_count": null,
   "id": "1ceead43",
   "metadata": {},
   "outputs": [],
   "source": [
    "def check_win():\n",
    "    pass"
   ]
  },
  {
   "cell_type": "markdown",
   "id": "89887d87",
   "metadata": {},
   "source": [
    "## Check for Win or Draw"
   ]
  },
  {
   "cell_type": "code",
   "execution_count": null,
   "id": "0fcfdc71",
   "metadata": {},
   "outputs": [],
   "source": [
    "def check_full():\n",
    "    pass"
   ]
  },
  {
   "cell_type": "code",
   "execution_count": null,
   "id": "6b210b57",
   "metadata": {},
   "outputs": [],
   "source": [
    "def change_marker():\n",
    "    pass"
   ]
  },
  {
   "cell_type": "code",
   "execution_count": null,
   "id": "807d604a",
   "metadata": {},
   "outputs": [],
   "source": [
    "li = [\"x\"]*10"
   ]
  },
  {
   "cell_type": "code",
   "execution_count": null,
   "id": "35b13fe8",
   "metadata": {},
   "outputs": [],
   "source": [
    "li[5] = \"0\""
   ]
  },
  {
   "cell_type": "markdown",
   "id": "1d269d49",
   "metadata": {},
   "source": [
    "## Display the Game Board"
   ]
  },
  {
   "cell_type": "code",
   "execution_count": null,
   "id": "f798d16b",
   "metadata": {},
   "outputs": [],
   "source": [
    "def display(li):\n",
    "    print(li[7], \"|\", li[8], \"|\", li[9])\n",
    "    print(\"-\"*10)\n",
    "    print(li[4], \"|\", li[5], \"|\", li[6])\n",
    "    print(\"-\"*10)\n",
    "    print(li[1], \"|\", li[2], \"|\", li[9])"
   ]
  },
  {
   "cell_type": "markdown",
   "id": "40d6889e",
   "metadata": {},
   "source": [
    "## Display the Game Board"
   ]
  },
  {
   "cell_type": "code",
   "execution_count": null,
   "id": "262e4e68",
   "metadata": {},
   "outputs": [],
   "source": [
    "display(li)"
   ]
  },
  {
   "cell_type": "markdown",
   "id": "0a2d3cf4",
   "metadata": {},
   "source": [
    "## Display the Game Board"
   ]
  },
  {
   "cell_type": "code",
   "execution_count": null,
   "id": "11006387",
   "metadata": {},
   "outputs": [],
   "source": [
    "def choose_position(li):\n",
    "    display(li)\n",
    "    position = None\n",
    "    while not position:\n",
    "        position = input(\"enter a number between 1-9 :\")\n",
    "        if not position.isdigit():\n",
    "            position = None\n",
    "        elif not int(position) in range (1,10):\n",
    "            position = None\n",
    "        elif not check_position(li, int(position)):\n",
    "            position = None\n",
    "\n",
    "    return int(position)"
   ]
  },
  {
   "cell_type": "markdown",
   "id": "c8920f65",
   "metadata": {},
   "source": [
    "## Check for Win or Draw"
   ]
  },
  {
   "cell_type": "code",
   "execution_count": null,
   "id": "a30401f4",
   "metadata": {},
   "outputs": [],
   "source": [
    "def check_position(li,position):\n",
    "    if li [position] == \" \":\n",
    "        return True\n",
    "    return False"
   ]
  },
  {
   "cell_type": "code",
   "execution_count": null,
   "id": "7a10340f",
   "metadata": {},
   "outputs": [],
   "source": [
    "li = [\" \"]*10"
   ]
  },
  {
   "cell_type": "code",
   "execution_count": null,
   "id": "dbf7fde8",
   "metadata": {},
   "outputs": [],
   "source": [
    "li[5] = \"0\""
   ]
  },
  {
   "cell_type": "code",
   "execution_count": null,
   "id": "4596e15b",
   "metadata": {},
   "outputs": [],
   "source": [
    "choose_position(li)"
   ]
  },
  {
   "cell_type": "markdown",
   "id": "747d747d",
   "metadata": {},
   "source": [
    "## Display the Game Board"
   ]
  },
  {
   "cell_type": "code",
   "execution_count": null,
   "id": "f4edb5f6",
   "metadata": {},
   "outputs": [],
   "source": [
    "def put_marker(li, marker):\n",
    "    position = choose_position(li)\n",
    "    li[position] = marker\n",
    "    display(li)"
   ]
  },
  {
   "cell_type": "markdown",
   "id": "12941814",
   "metadata": {},
   "source": [
    "put_marker(li, 'x')"
   ]
  },
  {
   "cell_type": "markdown",
   "id": "6b901178",
   "metadata": {},
   "source": [
    "## Check for Win or Draw"
   ]
  },
  {
   "cell_type": "code",
   "execution_count": null,
   "id": "310a8aa4",
   "metadata": {},
   "outputs": [],
   "source": [
    "def check_win (li):\n",
    "    for i in range (3,0,-1):\n",
    "        if (li[i] == li[i+3] == li[i+6] !=' ') or (li[i*3] == li[i*3-1] == li[i*3-2] !=' '):\n",
    "            return True\n",
    "\n",
    "    if li[7] == li[5] == li[3] !=' ':\n",
    "        return True\n",
    "\n",
    "\n",
    "    if li[9] ==li[5] == li[i] !=' ':\n",
    "        return True\n",
    "\n",
    "\n",
    "    return False\n",
    "        "
   ]
  },
  {
   "cell_type": "code",
   "execution_count": null,
   "id": "54f990c5",
   "metadata": {},
   "outputs": [],
   "source": []
  },
  {
   "cell_type": "markdown",
   "id": "647f5d01",
   "metadata": {},
   "source": [
    "## Check for Win or Draw"
   ]
  },
  {
   "cell_type": "code",
   "execution_count": null,
   "id": "6b1b3a83",
   "metadata": {},
   "outputs": [],
   "source": [
    "check_win(li)"
   ]
  },
  {
   "cell_type": "markdown",
   "id": "3bd08dc8",
   "metadata": {},
   "source": [
    "## Initialize Game Board"
   ]
  },
  {
   "cell_type": "code",
   "execution_count": null,
   "id": "ba116974",
   "metadata": {},
   "outputs": [],
   "source": [
    "def full_board(li):\n",
    "    for i in range(1,10):\n",
    "        if li[i] == ' ':\n",
    "            return False\n",
    "    return True"
   ]
  },
  {
   "cell_type": "code",
   "execution_count": null,
   "id": "fd09dbfb",
   "metadata": {},
   "outputs": [],
   "source": [
    "def switch_marker(marker):\n",
    "    if marker == \"x\":\n",
    "        return \"O\"\n",
    "    return\"x\""
   ]
  },
  {
   "cell_type": "code",
   "execution_count": null,
   "id": "d6fb9661",
   "metadata": {},
   "outputs": [],
   "source": [
    "def switch_player(current, player1, player2):\n",
    "    if current == player1 :\n",
    "        return player2\n",
    "    elif current == player2 :\n",
    "        return player1\n",
    "    "
   ]
  },
  {
   "cell_type": "code",
   "execution_count": null,
   "id": "1245c368",
   "metadata": {},
   "outputs": [],
   "source": [
    "switch_marker(\"x\")"
   ]
  },
  {
   "cell_type": "code",
   "execution_count": null,
   "id": "53d20ffc",
   "metadata": {},
   "outputs": [],
   "source": [
    "def take_name():\n",
    "    player = None\n",
    "    while not player:\n",
    "        player = input('enter your name')\n",
    "        if not player.isalpha():\n",
    "            player = None\n",
    "        \n",
    "    return player"
   ]
  },
  {
   "cell_type": "markdown",
   "id": "5b14d1ef",
   "metadata": {},
   "source": [
    "## Import Libraries"
   ]
  },
  {
   "cell_type": "code",
   "execution_count": null,
   "id": "d83a4dc3",
   "metadata": {},
   "outputs": [],
   "source": [
    "import random"
   ]
  },
  {
   "cell_type": "code",
   "execution_count": null,
   "id": "fba148a6",
   "metadata": {},
   "outputs": [],
   "source": [
    "random.randint(0,1)"
   ]
  },
  {
   "cell_type": "code",
   "execution_count": null,
   "id": "ec900ef6",
   "metadata": {},
   "outputs": [],
   "source": [
    "def chose_player(player1, player2):\n",
    "    if random.randint(0,1):\n",
    "        return player1\n",
    "    else:\n",
    "        return player2\n",
    "    \n",
    "        "
   ]
  },
  {
   "cell_type": "code",
   "execution_count": null,
   "id": "c493d5f7",
   "metadata": {},
   "outputs": [],
   "source": [
    "chose_player('das', 'abhi')"
   ]
  },
  {
   "cell_type": "code",
   "execution_count": null,
   "id": "4edcc707",
   "metadata": {},
   "outputs": [],
   "source": [
    "def choose_marker():\n",
    "    marker = None\n",
    "    while not marker:\n",
    "        marker = input('enter x or o')\n",
    "        if marker.strip().upper() not in (\"X\", \"O\"):\n",
    "            marker = None\n",
    "    return marker.strip().upper()"
   ]
  },
  {
   "cell_type": "code",
   "execution_count": null,
   "id": "4a2eb86c",
   "metadata": {},
   "outputs": [],
   "source": [
    "choose_marker()"
   ]
  },
  {
   "cell_type": "markdown",
   "id": "0f520def",
   "metadata": {},
   "source": [
    "## Import Libraries"
   ]
  },
  {
   "cell_type": "code",
   "execution_count": null,
   "id": "8320faba",
   "metadata": {},
   "outputs": [],
   "source": [
    "from IPython.display import clear_output"
   ]
  },
  {
   "cell_type": "markdown",
   "id": "6b62981a",
   "metadata": {},
   "source": [
    "## Initialize Game Board"
   ]
  },
  {
   "cell_type": "code",
   "execution_count": null,
   "id": "97456695",
   "metadata": {},
   "outputs": [],
   "source": [
    "\n",
    "Game = True\n",
    "first_game = True\n",
    "repeat = False\n",
    "while Game:\n",
    "    if first_game:\n",
    "        li = [' ']*10\n",
    "        print('welcome players')\n",
    "        player = ('player 1')\n",
    "        player1 = take_name()\n",
    "        clear_output()\n",
    "        print('player2')\n",
    "        player2 = take_name()\n",
    "        clear_output()\n",
    "        first_game = False\n",
    "    \n",
    "    if not repeat:\n",
    "        li = [' ']*10\n",
    "        cur_player = chose_player(player1, player2)\n",
    "        print(cur_player, 'will play first , choose marker')\n",
    "        marker = choose_marker()\n",
    "        clear_output()\n",
    "        repeat = True\n",
    "    #display(li)\n",
    "    put_marker(li, marker)\n",
    "    clear_output()\n",
    "    if check_win(li):\n",
    "        print(cur_player, \"won\")\n",
    "        break\n",
    "    if full_board(li):\n",
    "        print('Match is draw')\n",
    "        break\n",
    "    marker = switch_marker(marker)\n",
    "\n",
    "\n",
    "\n",
    "\n",
    "    "
   ]
  },
  {
   "cell_type": "code",
   "execution_count": null,
   "id": "f8821061",
   "metadata": {},
   "outputs": [],
   "source": []
  }
 ],
 "metadata": {
  "kernelspec": {
   "display_name": "Python [conda env:base] *",
   "language": "python",
   "name": "conda-base-py"
  },
  "language_info": {
   "codemirror_mode": {
    "name": "ipython",
    "version": 3
   },
   "file_extension": ".py",
   "mimetype": "text/x-python",
   "name": "python",
   "nbconvert_exporter": "python",
   "pygments_lexer": "ipython3",
   "version": "3.12.7"
  }
 },
 "nbformat": 4,
 "nbformat_minor": 5
}
